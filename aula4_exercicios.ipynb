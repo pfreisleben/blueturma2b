{
  "nbformat": 4,
  "nbformat_minor": 0,
  "metadata": {
    "colab": {
      "name": "aula4_exercicios.ipynb",
      "provenance": [],
      "collapsed_sections": [],
      "include_colab_link": true
    },
    "kernelspec": {
      "name": "python3",
      "display_name": "Python 3"
    },
    "language_info": {
      "name": "python"
    }
  },
  "cells": [
    {
      "cell_type": "markdown",
      "metadata": {
        "id": "view-in-github",
        "colab_type": "text"
      },
      "source": [
        "<a href=\"https://colab.research.google.com/github/pfreisleben/blueturma2b/blob/main/aula4_exercicios.ipynb\" target=\"_parent\"><img src=\"https://colab.research.google.com/assets/colab-badge.svg\" alt=\"Open In Colab\"/></a>"
      ]
    },
    {
      "cell_type": "markdown",
      "metadata": {
        "id": "DptQTkwqN7v9"
      },
      "source": [
        "# Exercícios de Aquecimento\n",
        "\n",
        "## Exercício 01\n",
        "Elabore um programa que imprima na tela a seguinte frase `Olá Mundo! Esse é o meu primeiro programa`"
      ]
    },
    {
      "cell_type": "code",
      "metadata": {
        "id": "fu-Hvxg7OT64",
        "colab": {
          "base_uri": "https://localhost:8080/"
        },
        "outputId": "59cb3df6-6671-45dc-cc8e-ca65cdcab8e6"
      },
      "source": [
        "print(\"Olá Mundo! Esse é o meu primeiro programa\")"
      ],
      "execution_count": 1,
      "outputs": [
        {
          "output_type": "stream",
          "text": [
            "Olá Mundo! Esse é o meu primeiro programa\n"
          ],
          "name": "stdout"
        }
      ]
    },
    {
      "cell_type": "markdown",
      "metadata": {
        "id": "HYnPLbl2OfuE"
      },
      "source": [
        "## Exercício 02\n",
        "Elabore um programa que escreve seu nome completo na primeira linha, seu endereço na segunda e o CEP e telefone na terceira.  \n",
        "\n",
        "**Exemplo:**\n",
        "```\n",
        "Nome: Bruno Fabri\n",
        "Endereço: Rua ABC\n",
        "CEP: 002220-010\n",
        "```"
      ]
    },
    {
      "cell_type": "code",
      "metadata": {
        "id": "sUrmuOzbO5Cd"
      },
      "source": [
        "print(\"\"\"\n",
        "Nome: Pedro Freisleben\n",
        "Endereço: Rua ABC\n",
        "Cep: 18265-335\n",
        "\"\"\")"
      ],
      "execution_count": null,
      "outputs": []
    },
    {
      "cell_type": "markdown",
      "metadata": {
        "id": "5XVY0cvwP1WX"
      },
      "source": [
        "## Exercício 03\n",
        "Elabore um programa que recebe o nome de uma pessoa do terminal e mostra a seguinte mensagem: `Olá {nome}! Seja bem vindo ao fantástico mundo da programação`"
      ]
    },
    {
      "cell_type": "code",
      "metadata": {
        "id": "VDfwe6OSQM0M"
      },
      "source": [
        "nome = input(\"Digite o seu nome: \")\n",
        "print(\"Olá \" + nome + \"! Seja bem vindo ao fantástico mundo da programação.\")\n",
        "print(\"Olá {}! Seja bem vindo ao fantástico mundo da programação.\".format(nome))\n",
        "print(f'Olá {nome}! Seja bem vindo ao fantástico mundo da programação.')"
      ],
      "execution_count": null,
      "outputs": []
    },
    {
      "cell_type": "markdown",
      "metadata": {
        "id": "1Nb29agVQc3k"
      },
      "source": [
        "## Exercício 04\n",
        "Elabore um programa que recebe dois valores inteiros e mostra a soma desses valores\n",
        "\n",
        "**Exemplo:**\n",
        "\n",
        "```\n",
        "Primeiro Valor = 2\n",
        "Segundo Valor = 3\n",
        "Soma = 5\n",
        "```"
      ]
    },
    {
      "cell_type": "code",
      "metadata": {
        "id": "a6_BwVwRROmH"
      },
      "source": [
        "firstValue = int(input(\"Informe o primeiro número: \"))\n",
        "secondValue = int(input(\"Informe o segundo número: \"))\n",
        "print(\"O resultado da soma dos dois valores é:\")\n",
        "print(firstValue + secondValue)\n"
      ],
      "execution_count": null,
      "outputs": []
    },
    {
      "cell_type": "markdown",
      "metadata": {
        "id": "4HQxR3FTTbSr"
      },
      "source": [
        "## Exercício 05\n",
        "Elabore um programa que recebe dois valores inteiros e mostra se o primeiro valor é maior ou igual ao segundo valor\n",
        "\n",
        "**Exemplo:**\n",
        "```\n",
        "Primeiro Valor = 3\n",
        "Segundo Valor = 2\n",
        "Resultado = True\n",
        "```"
      ]
    },
    {
      "cell_type": "code",
      "metadata": {
        "id": "OXISQASdTeSW"
      },
      "source": [
        "firstValue = int(input(\"Informe o primeiro valor: \"))\n",
        "secondValue = int(input(\"Informe o segundo valor: \"))\n",
        "print(\"O primeiro valor é maior ou igual ao segundo?\")\n",
        "print(firstValue >= secondValue)"
      ],
      "execution_count": null,
      "outputs": []
    },
    {
      "cell_type": "markdown",
      "metadata": {
        "id": "Gn8rHPn3UCnc"
      },
      "source": [
        "## Exercício 06\n",
        "Elabore um programa que recebe o seu nome, endereço e hobby e mostra cada uma das informações da seguinte forma:\n",
        "- Nome -> Letra maiúscula\n",
        "- Endereço -> Letra minúscula\n",
        "- Hobby -> Primeira letra maiúscula\n",
        "\n",
        "**Exemplo Entrada:**\n",
        "```\n",
        "Nome: bruno fabri\n",
        "Endereço: Rua ABC\n",
        "Hobby: jogar cs\n",
        "```\n",
        "\n",
        "**Exemplo Saída:**\n",
        "```\n",
        "Nome: BRUNO FABRI\n",
        "Endereço: rua abc\n",
        "Hobby: Jogar cs\n",
        "```"
      ]
    },
    {
      "cell_type": "code",
      "metadata": {
        "id": "ZIj-PGVZVVP6",
        "colab": {
          "base_uri": "https://localhost:8080/"
        },
        "outputId": "71d5cda3-736a-42f2-83df-37c0e18baa9c"
      },
      "source": [
        "nome = input(\"Informe seu nome: \").upper()\n",
        "endereco = input(\"Informe seu endereço: \").lower()\n",
        "hobby = input(\"Informe seu hobby: \").capitalize()\n",
        "print(f'Nome: {nome}\\nEndereço: {endereco}\\nHobby: {hobby}')\n"
      ],
      "execution_count": 44,
      "outputs": [
        {
          "output_type": "stream",
          "text": [
            "Informe seu nome: pedro\n",
            "Informe seu endereço: pedro\n",
            "Informe seu hobby: pedro\n",
            "Nome: PEDRO\n",
            "Endereço: pedro\n",
            "Hobby: Pedro\n"
          ],
          "name": "stdout"
        }
      ]
    },
    {
      "cell_type": "markdown",
      "metadata": {
        "id": "wlvmEAPQNrcL"
      },
      "source": [
        "# Mini Projetos"
      ]
    },
    {
      "cell_type": "markdown",
      "metadata": {
        "id": "W8zwueNBKh4B"
      },
      "source": [
        "## Mini Projeto 01 - Conversor de Moeda\n",
        "Vamos construir um programa que irá converter moedas do real para o dólar e do dólar para o real. Vamos considerar que `$ 1,00 = R$ 5,75`\n",
        "\n",
        "### Parte 1\n",
        "Faça o conversor de moeda receber o valor em real e mostrar o valor convertido para dólar no formato `$ XXXX.XX`\n",
        "\n",
        "**Exemplo:**\n",
        "\n",
        "```\n",
        "Valor em R$ = 1000\n",
        "Valor em $ = $ 173.91\n",
        "```\n",
        "\n",
        "### Parte 2\n",
        "Altere o conversor de moedas para receber o valor em dólar, converter para real e mostrar o resultado no formato `R$ XXXX.XX`\n",
        "\n",
        "**Exemplo:**\n",
        "```\n",
        "Valor em $ = 1000\n",
        "Valor em R$ = R$ 5750.00\n",
        "```"
      ]
    },
    {
      "cell_type": "code",
      "metadata": {
        "id": "mRQ9fpIgMp5Z",
        "colab": {
          "base_uri": "https://localhost:8080/"
        },
        "outputId": "9569c7fc-a08b-4c68-fd66-6d9413a010cf"
      },
      "source": [
        "# Parte 1!\n",
        "reais = float(input(\"Digite o valor em real(R$)\").replace(',', '.'))\n",
        "cotacaoDolar = 5.75\n",
        "vlrConvertido = reais / cotacaoDolar\n",
        "print(f'O valor em dólar é: ${format(vlrConvertido, \".2f\")}')"
      ],
      "execution_count": 50,
      "outputs": [
        {
          "output_type": "stream",
          "text": [
            "Digite o valor em real(R$)1000\n",
            "O valor em dólar é: $173.91\n"
          ],
          "name": "stdout"
        }
      ]
    },
    {
      "cell_type": "code",
      "metadata": {
        "id": "af82Tgj3Aes7"
      },
      "source": [
        "# Parte 2!\n",
        "print(\"Digite o valor em $(Dólar):\")\n",
        "dolar = float(input().replace(',', '.'))\n",
        "cotacaoDolar = 5.75\n",
        "vlrConvertido = dolar * cotacaoDolar\n",
        "print(f'O valor em real é: R${format(vlrConvertido, \".2f\")}')"
      ],
      "execution_count": null,
      "outputs": []
    },
    {
      "cell_type": "markdown",
      "metadata": {
        "id": "0NmAiF2DV_ju"
      },
      "source": [
        "## Mini Projeto 02 - Calculadora de aumento de aluguel\n",
        "Vamos construir um programa que irá calcular o aumento anual do seu aluguel em duas partes:\n",
        "\n",
        "### Parte 1\n",
        "A sua calculadora vai receber o `valor do aluguel` e calcular o aumento baseado no `IGPM de 31%`. A calculadora deve apresentar o aluguel reajustado no formato `R$ XXXX.XX`\n",
        "\n",
        "**Exemplo:**\n",
        "```\n",
        "Valor do aluguel = 1000\n",
        "Valor do aluguel reajustado = R$ 1310,00\n",
        "```\n",
        "\n",
        "### Parte 2\n",
        "Agora, altere sua calculadora para receber além do `valor do aluguel`, o percentual do reajuste no formato `XX%`.  \n",
        "\n",
        "**Dica:** Descubra uma forma de transformar o percentual recebido em um número para efetuar o cálculo.\n",
        "\n",
        "**Exemplo:**\n",
        "```\n",
        "Valor do aluguel = 1000\n",
        "Percentual do reajuste = 31%\n",
        "Valor do aluguel reajustado = R% 1310,00\n",
        "```"
      ]
    },
    {
      "cell_type": "code",
      "metadata": {
        "id": "0eHzSCyaGkYJ",
        "colab": {
          "base_uri": "https://localhost:8080/"
        },
        "outputId": "6d4e8650-0d0a-44bc-e22c-14788e7b1bdb"
      },
      "source": [
        "#Parte 1\n",
        "vlrIgmp = 31.00\n",
        "print(\"Informe o valor do aluguel:\")\n",
        "aluguel = float(input().replace(',', '.'))\n",
        "algConvertido = aluguel+(aluguel*(vlrIgmp/100))\n",
        "print(f'Valor do aluguel reajustado = {algConvertido:.2f}')"
      ],
      "execution_count": 54,
      "outputs": [
        {
          "output_type": "stream",
          "text": [
            "Informe o valor do aluguel:\n",
            "1000\n",
            "Valor do aluguel reajustado = 1310.00\n"
          ],
          "name": "stdout"
        }
      ]
    },
    {
      "cell_type": "code",
      "metadata": {
        "colab": {
          "base_uri": "https://localhost:8080/"
        },
        "id": "J-Wr3CpyDypW",
        "outputId": "d8bfa8db-5144-4c67-aa9d-be6c6b94ab9e"
      },
      "source": [
        "#Parte 2\n",
        "aluguel = float(input(\"Informe o valor do aluguel: \").replace(',', '.'))\n",
        "reajuste = float(input(\"Informe o valor do reajuste em %: \"))\n",
        "algConvertido = aluguel+(aluguel*(reajuste/100))\n",
        "print(f'Valor do aluguel reajustado = R${algConvertido:.2f}')"
      ],
      "execution_count": 61,
      "outputs": [
        {
          "output_type": "stream",
          "text": [
            "Informe o valor do aluguel: 5000\n",
            "Informe o valor do reajuste em %: 50\n",
            "Valor do aluguel reajustado = R$7500.00\n"
          ],
          "name": "stdout"
        }
      ]
    },
    {
      "cell_type": "markdown",
      "metadata": {
        "id": "xN88sUuMOG46"
      },
      "source": [
        "## Mini Projeto 03 - Calculadora de dano\n",
        "Vamos implementar a calculadora de dano de RPG!!\n",
        "\n",
        "### Parte 1\n",
        "O programa vai receber a `vida e um monstro (entre 10 e 50)` e o `valor do ataque do jogador por turno (entre 5 e 10)`\n",
        "\n",
        "Baseado nos valores, exiba a quantidade de turnos que o jogador irá demorar para conseguir derrotar o monstro.\n",
        "\n",
        "**Exemplo:**\n",
        "```\n",
        "Vida de um monstro (entre 10 e 50): 26\n",
        "Valor do ataque do jogador por turno (entre 5 e 10): 5\n",
        "Resultado: O jogador irá precisar de 6 turnos para derrotar o monstro.\n",
        "```\n",
        "\n",
        "### Parte 2\n",
        "Altere o programa para ao invés de receber a vida do monstro, gerar aleatoriamente um valor entre 10 e 50."
      ]
    },
    {
      "cell_type": "code",
      "metadata": {
        "id": "Mrpz9UomQH2P",
        "colab": {
          "base_uri": "https://localhost:8080/"
        },
        "outputId": "8ba7d7e6-ec4e-4c9d-e201-146a1270f788"
      },
      "source": [
        "#Parte 1\n",
        "vidaMonstro = 0\n",
        "vlrAtaque = 0\n",
        "while vidaMonstro < 10 or vidaMonstro > 50:\n",
        "  vidaMonstro = int(input(\"Informe a vida do monstro(entre 10 e 50): \"))\n",
        "while vlrAtaque < 5 or vlrAtaque > 10:\n",
        "  vlrAtaque = int(input(\"Informe o valor de ataque(entre 5 e 10): \"))\n",
        "qtdTurnos = round(vidaMonstro/vlrAtaque + 0.5)\n",
        "print(qtdTurnos)\n",
        "print(f'O jogador irá precisar de {qtdTurnos} turnos para derrotar o monstro.')\n",
        "\n",
        "\n"
      ],
      "execution_count": 111,
      "outputs": [
        {
          "output_type": "stream",
          "text": [
            "Informe a vida do monstro(entre 10 e 50): 26\n",
            "Informe o valor de ataque(entre 5 e 10): 5\n",
            "6\n",
            "O jogador irá precisar de 6 turnos para derrotar o monstro.\n"
          ],
          "name": "stdout"
        }
      ]
    },
    {
      "cell_type": "code",
      "metadata": {
        "id": "BRQWJ16WVUGR"
      },
      "source": [
        "#Parte 2\n",
        "vidaMonstro = 0\n",
        "vlrAtaque = 0\n",
        "while vidaMonstro < 10 or vidaMonstro > 50:\n",
        "  vidaMonstro = int(input(\"Informe a vida do monstro(entre 10 e 50): \"))\n",
        "while vlrAtaque < 5 or vlrAtaque > 10:\n",
        "  vlrAtaque = int(input(\"Informe o valor de ataque(entre 5 e 10): \"))\n",
        "qtdTurnos = round(vidaMonstro/vlrAtaque + 0.5)\n",
        "print(qtdTurnos)\n",
        "print(f'O jogador irá precisar de {qtdTurnos} turnos para derrotar o monstro.')\n",
        "\n",
        "\n"
      ],
      "execution_count": null,
      "outputs": []
    }
  ]
}