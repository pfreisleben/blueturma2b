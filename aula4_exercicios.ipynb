{
  "nbformat": 4,
  "nbformat_minor": 0,
  "metadata": {
    "colab": {
      "name": "aula4_exercicios.ipynb",
      "provenance": [],
      "collapsed_sections": [
        "HYnPLbl2OfuE",
        "5XVY0cvwP1WX",
        "1Nb29agVQc3k",
        "Gn8rHPn3UCnc"
      ],
      "include_colab_link": true
    },
    "kernelspec": {
      "name": "python3",
      "display_name": "Python 3"
    },
    "language_info": {
      "name": "python"
    }
  },
  "cells": [
    {
      "cell_type": "markdown",
      "metadata": {
        "id": "view-in-github",
        "colab_type": "text"
      },
      "source": [
        "<a href=\"https://colab.research.google.com/github/pfreisleben/blueturma2b/blob/main/aula4_exercicios.ipynb\" target=\"_parent\"><img src=\"https://colab.research.google.com/assets/colab-badge.svg\" alt=\"Open In Colab\"/></a>"
      ]
    },
    {
      "cell_type": "markdown",
      "metadata": {
        "id": "DptQTkwqN7v9"
      },
      "source": [
        "# Exercícios de Aquecimento\n",
        "\n",
        "## Exercício 01\n",
        "Elabore um programa que imprima na tela a seguinte frase `Olá Mundo! Esse é o meu primeiro programa`"
      ]
    },
    {
      "cell_type": "code",
      "metadata": {
        "id": "fu-Hvxg7OT64",
        "colab": {
          "base_uri": "https://localhost:8080/"
        },
        "outputId": "2ddcbf11-643c-4fb4-9ac1-9fdfd3f42788"
      },
      "source": [
        "print(\"Olá Mundo! Esse é o meu primeiro programa\")"
      ],
      "execution_count": null,
      "outputs": [
        {
          "output_type": "stream",
          "text": [
            "Olá Mundo! Esse é o meu primeiro programa\n"
          ],
          "name": "stdout"
        }
      ]
    },
    {
      "cell_type": "markdown",
      "metadata": {
        "id": "HYnPLbl2OfuE"
      },
      "source": [
        "## Exercício 02\n",
        "Elabore um programa que escreve seu nome completo na primeira linha, seu endereço na segunda e o CEP e telefone na terceira.  \n",
        "\n",
        "**Exemplo:**\n",
        "```\n",
        "Nome: Bruno Fabri\n",
        "Endereço: Rua ABC\n",
        "CEP: 002220-010\n",
        "```"
      ]
    },
    {
      "cell_type": "code",
      "metadata": {
        "id": "sUrmuOzbO5Cd",
        "colab": {
          "base_uri": "https://localhost:8080/"
        },
        "outputId": "70103d1d-07e1-43b0-8076-3d3a6e163f8b"
      },
      "source": [
        "print(\"\"\"\n",
        "Nome: Pedro Freisleben\n",
        "Endereço: Rua ABC\n",
        "Cep: 18265-335\n",
        "\"\"\")"
      ],
      "execution_count": null,
      "outputs": [
        {
          "output_type": "stream",
          "text": [
            "\n",
            "Nome: Pedro Freisleben\n",
            "Endereço: Rua ABC\n",
            "Cep: 18265-335\n",
            "\n"
          ],
          "name": "stdout"
        }
      ]
    },
    {
      "cell_type": "markdown",
      "metadata": {
        "id": "5XVY0cvwP1WX"
      },
      "source": [
        "## Exercício 03\n",
        "Elabore um programa que recebe o nome de uma pessoa do terminal e mostra a seguinte mensagem: `Olá {nome}! Seja bem vindo ao fantástico mundo da programação`"
      ]
    },
    {
      "cell_type": "code",
      "metadata": {
        "id": "VDfwe6OSQM0M",
        "colab": {
          "base_uri": "https://localhost:8080/"
        },
        "outputId": "4020b66f-954c-40bf-91a0-c5d435ce2543"
      },
      "source": [
        "nome = input(\"Digite o seu nome: \")\n",
        "print(\"Olá \" + nome + \"! Seja bem vindo ao fantástico mundo da programação.\")\n",
        "print(\"Olá {}! Seja bem vindo ao fantástico mundo da programação.\".format(nome))\n",
        "print(f'Olá {nome}! Seja bem vindo ao fantástico mundo da programação.')"
      ],
      "execution_count": null,
      "outputs": [
        {
          "output_type": "stream",
          "text": [
            "Digite o seu nome: pedro\n",
            "Olá pedro! Seja bem vindo ao fantástico mundo da programação.\n",
            "Olá pedro! Seja bem vindo ao fantástico mundo da programação.\n",
            "Olá pedro! Seja bem vindo ao fantástico mundo da programação.\n"
          ],
          "name": "stdout"
        }
      ]
    },
    {
      "cell_type": "markdown",
      "metadata": {
        "id": "1Nb29agVQc3k"
      },
      "source": [
        "## Exercício 04\n",
        "Elabore um programa que recebe dois valores inteiros e mostra a soma desses valores\n",
        "\n",
        "**Exemplo:**\n",
        "\n",
        "```\n",
        "Primeiro Valor = 2\n",
        "Segundo Valor = 3\n",
        "Soma = 5\n",
        "```"
      ]
    },
    {
      "cell_type": "code",
      "metadata": {
        "id": "a6_BwVwRROmH",
        "colab": {
          "base_uri": "https://localhost:8080/"
        },
        "outputId": "314f4080-a7c5-4c8c-f75c-b97f04e543d7"
      },
      "source": [
        "firstValue = int(input(\"Informe o primeiro número: \"))\n",
        "secondValue = int(input(\"Informe o segundo número: \"))\n",
        "print(\"O resultado da soma dos dois valores é:\")\n",
        "print(firstValue + secondValue)\n"
      ],
      "execution_count": null,
      "outputs": [
        {
          "output_type": "stream",
          "text": [
            "Informe o primeiro número: 10\n",
            "Informe o segundo número: 5\n",
            "O resultado da soma dos dois valores é:\n",
            "15\n"
          ],
          "name": "stdout"
        }
      ]
    },
    {
      "cell_type": "markdown",
      "metadata": {
        "id": "4HQxR3FTTbSr"
      },
      "source": [
        "## Exercício 05\n",
        "Elabore um programa que recebe dois valores inteiros e mostra se o primeiro valor é maior ou igual ao segundo valor\n",
        "\n",
        "**Exemplo:**\n",
        "```\n",
        "Primeiro Valor = 3\n",
        "Segundo Valor = 2\n",
        "Resultado = True\n",
        "```"
      ]
    },
    {
      "cell_type": "code",
      "metadata": {
        "id": "OXISQASdTeSW",
        "colab": {
          "base_uri": "https://localhost:8080/"
        },
        "outputId": "678e4448-968d-4d66-a521-89295cd854e9"
      },
      "source": [
        "firstValue = int(input(\"Informe o primeiro valor: \"))\n",
        "secondValue = int(input(\"Informe o segundo valor: \"))\n",
        "print(\"O primeiro valor é maior ou igual ao segundo?\")\n",
        "print(firstValue >= secondValue)"
      ],
      "execution_count": null,
      "outputs": [
        {
          "output_type": "stream",
          "text": [
            "Informe o primeiro valor: 10\n",
            "Informe o segundo valor: 5\n",
            "O primeiro valor é maior ou igual ao segundo?\n",
            "True\n"
          ],
          "name": "stdout"
        }
      ]
    },
    {
      "cell_type": "markdown",
      "metadata": {
        "id": "Gn8rHPn3UCnc"
      },
      "source": [
        "## Exercício 06\n",
        "Elabore um programa que recebe o seu nome, endereço e hobby e mostra cada uma das informações da seguinte forma:\n",
        "- Nome -> Letra maiúscula\n",
        "- Endereço -> Letra minúscula\n",
        "- Hobby -> Primeira letra maiúscula\n",
        "\n",
        "**Exemplo Entrada:**\n",
        "```\n",
        "Nome: bruno fabri\n",
        "Endereço: Rua ABC\n",
        "Hobby: jogar cs\n",
        "```\n",
        "\n",
        "**Exemplo Saída:**\n",
        "```\n",
        "Nome: BRUNO FABRI\n",
        "Endereço: rua abc\n",
        "Hobby: Jogar cs\n",
        "```"
      ]
    },
    {
      "cell_type": "code",
      "metadata": {
        "id": "ZIj-PGVZVVP6",
        "colab": {
          "base_uri": "https://localhost:8080/"
        },
        "outputId": "6f0aed33-0d1a-4619-bf1b-3bdfe7a5d25b"
      },
      "source": [
        "nome = input(\"Informe seu nome: \").upper()\n",
        "endereco = input(\"Informe seu endereço: \").lower()\n",
        "hobby = input(\"Informe seu hobby: \").capitalize()\n",
        "print(f'Nome: {nome}\\nEndereço: {endereco}\\nHobby: {hobby}')\n"
      ],
      "execution_count": null,
      "outputs": [
        {
          "output_type": "stream",
          "text": [
            "Informe seu nome: pedro\n",
            "Informe seu endereço: pedro\n",
            "Informe seu hobby: pedro\n",
            "Nome: PEDRO\n",
            "Endereço: pedro\n",
            "Hobby: Pedro\n"
          ],
          "name": "stdout"
        }
      ]
    },
    {
      "cell_type": "markdown",
      "metadata": {
        "id": "wlvmEAPQNrcL"
      },
      "source": [
        "# Mini Projetos"
      ]
    },
    {
      "cell_type": "markdown",
      "metadata": {
        "id": "W8zwueNBKh4B"
      },
      "source": [
        "## Mini Projeto 01 - Conversor de Moeda\n",
        "Vamos construir um programa que irá converter moedas do real para o dólar e do dólar para o real. Vamos considerar que `$ 1,00 = R$ 5,75`\n",
        "\n",
        "### Parte 1\n",
        "Faça o conversor de moeda receber o valor em real e mostrar o valor convertido para dólar no formato `$ XXXX.XX`\n",
        "\n",
        "**Exemplo:**\n",
        "\n",
        "```\n",
        "Valor em R$ = 1000\n",
        "Valor em $ = $ 173.91\n",
        "```\n",
        "\n",
        "### Parte 2\n",
        "Altere o conversor de moedas para receber o valor em dólar, converter para real e mostrar o resultado no formato `R$ XXXX.XX`\n",
        "\n",
        "**Exemplo:**\n",
        "```\n",
        "Valor em $ = 1000\n",
        "Valor em R$ = R$ 5750.00\n",
        "```"
      ]
    },
    {
      "cell_type": "code",
      "metadata": {
        "id": "mRQ9fpIgMp5Z",
        "colab": {
          "base_uri": "https://localhost:8080/"
        },
        "outputId": "c912861f-c241-4433-9d09-8db9b53f6078"
      },
      "source": [
        "# Parte 1!\n",
        "reais = float(input(\"Digite o valor em real(R$)\").replace(',', '.'))\n",
        "cotacaoDolar = 5.75\n",
        "vlrConvertido = reais / cotacaoDolar\n",
        "print(f'O valor em dólar é: ${format(vlrConvertido, \".2f\")}')"
      ],
      "execution_count": null,
      "outputs": [
        {
          "output_type": "stream",
          "text": [
            "Digite o valor em real(R$)1000\n",
            "O valor em dólar é: $173.91\n"
          ],
          "name": "stdout"
        }
      ]
    },
    {
      "cell_type": "code",
      "metadata": {
        "id": "af82Tgj3Aes7",
        "colab": {
          "base_uri": "https://localhost:8080/"
        },
        "outputId": "ca1544bf-8edd-42ba-af1c-75043ddb7607"
      },
      "source": [
        "# Parte 2!\n",
        "print(\"Digite o valor em $(Dólar):\")\n",
        "dolar = float(input().replace(',', '.'))\n",
        "cotacaoDolar = 5.75\n",
        "vlrConvertido = dolar * cotacaoDolar\n",
        "print(f'O valor em real é: R${format(vlrConvertido, \".2f\")}')"
      ],
      "execution_count": null,
      "outputs": [
        {
          "output_type": "stream",
          "text": [
            "Digite o valor em $(Dólar):\n",
            "1000,00\n",
            "O valor em real é: R$5750.00\n"
          ],
          "name": "stdout"
        }
      ]
    },
    {
      "cell_type": "markdown",
      "metadata": {
        "id": "0NmAiF2DV_ju"
      },
      "source": [
        "## Mini Projeto 02 - Calculadora de aumento de aluguel\n",
        "Vamos construir um programa que irá calcular o aumento anual do seu aluguel em duas partes:\n",
        "\n",
        "### Parte 1\n",
        "A sua calculadora vai receber o `valor do aluguel` e calcular o aumento baseado no `IGPM de 31%`. A calculadora deve apresentar o aluguel reajustado no formato `R$ XXXX.XX`\n",
        "\n",
        "**Exemplo:**\n",
        "```\n",
        "Valor do aluguel = 1000\n",
        "Valor do aluguel reajustado = R$ 1310,00\n",
        "```\n",
        "\n",
        "### Parte 2\n",
        "Agora, altere sua calculadora para receber além do `valor do aluguel`, o percentual do reajuste no formato `XX%`.  \n",
        "\n",
        "**Dica:** Descubra uma forma de transformar o percentual recebido em um número para efetuar o cálculo.\n",
        "\n",
        "**Exemplo:**\n",
        "```\n",
        "Valor do aluguel = 1000\n",
        "Percentual do reajuste = 31%\n",
        "Valor do aluguel reajustado = R% 1310,00\n",
        "```"
      ]
    },
    {
      "cell_type": "code",
      "metadata": {
        "id": "0eHzSCyaGkYJ",
        "colab": {
          "base_uri": "https://localhost:8080/"
        },
        "outputId": "8dbc2445-1447-4255-a567-43b634f04ee1"
      },
      "source": [
        "#Parte 1\n",
        "igpm = 1.31\n",
        "aluguel = float(input(\"Informe o valor do aluguel: \").replace(',', '.'))\n",
        "algConvertido = aluguel*igpm\n",
        "print(f'Valor do aluguel reajustado = R$ {algConvertido:.2f}')\n",
        "print(\"Valor do aluguel reajustado: R$ {:.2f}\".format(algConvertido))"
      ],
      "execution_count": 6,
      "outputs": [
        {
          "output_type": "stream",
          "text": [
            "Informe o valor do aluguel: 1000\n",
            "Valor do aluguel reajustado = R$ 1310.00\n",
            "Valor do aluguel reajustado: R$ 1310.00\n"
          ],
          "name": "stdout"
        }
      ]
    },
    {
      "cell_type": "code",
      "metadata": {
        "colab": {
          "base_uri": "https://localhost:8080/"
        },
        "id": "J-Wr3CpyDypW",
        "outputId": "d8bfa8db-5144-4c67-aa9d-be6c6b94ab9e"
      },
      "source": [
        "#Parte 2\n",
        "aluguel = float(input(\"Informe o valor do aluguel: \").replace(',', '.'))\n",
        "reajuste = float(input(\"Informe o valor do reajuste em %: \"))\n",
        "algConvertido = aluguel+(aluguel*(reajuste/100))\n",
        "print(f'Valor do aluguel reajustado = R${algConvertido:.2f}')"
      ],
      "execution_count": null,
      "outputs": [
        {
          "output_type": "stream",
          "text": [
            "Informe o valor do aluguel: 5000\n",
            "Informe o valor do reajuste em %: 50\n",
            "Valor do aluguel reajustado = R$7500.00\n"
          ],
          "name": "stdout"
        }
      ]
    },
    {
      "cell_type": "markdown",
      "metadata": {
        "id": "xN88sUuMOG46"
      },
      "source": [
        "## Mini Projeto 03 - Calculadora de dano\n",
        "Vamos implementar a calculadora de dano de RPG!!\n",
        "\n",
        "### Parte 1\n",
        "O programa vai receber a `vida e um monstro (entre 10 e 50)` e o `valor do ataque do jogador por turno (entre 5 e 10)`\n",
        "\n",
        "Baseado nos valores, exiba a quantidade de turnos que o jogador irá demorar para conseguir derrotar o monstro.\n",
        "\n",
        "**Exemplo:**\n",
        "```\n",
        "Vida de um monstro (entre 10 e 50): 26\n",
        "Valor do ataque do jogador por turno (entre 5 e 10): 5\n",
        "Resultado: O jogador irá precisar de 6 turnos para derrotar o monstro.\n",
        "```\n",
        "\n",
        "### Parte 2\n",
        "Altere o programa para ao invés de receber a vida do monstro, gerar aleatoriamente um valor entre 10 e 50."
      ]
    },
    {
      "cell_type": "code",
      "metadata": {
        "id": "Mrpz9UomQH2P",
        "colab": {
          "base_uri": "https://localhost:8080/"
        },
        "outputId": "2fdccf42-9df1-41d5-d5a2-e35cc39810ac"
      },
      "source": [
        "#Parte 1\n",
        "vidaMonstro = 0\n",
        "vlrAtaque = 0\n",
        "while vidaMonstro < 10 or vidaMonstro > 50:\n",
        "  vidaMonstro = float(input(\"Informe a vida do monstro(entre 10 e 50): \"))\n",
        "while vlrAtaque < 5 or vlrAtaque > 10:\n",
        "  vlrAtaque = float(input(\"Informe o valor de ataque(entre 5 e 10): \"))\n",
        "qtdTurnos = round(vidaMonstro/vlrAtaque + 0.5)\n",
        "print(qtdTurnos)\n",
        "print(f'O jogador irá precisar de {qtdTurnos} turnos para derrotar o monstro.')\n",
        "\n",
        "\n"
      ],
      "execution_count": 2,
      "outputs": [
        {
          "output_type": "stream",
          "text": [
            "Informe a vida do monstro(entre 10 e 50): 30\n",
            "Informe o valor de ataque(entre 5 e 10): 5.9\n",
            "6\n",
            "O jogador irá precisar de 6 turnos para derrotar o monstro.\n"
          ],
          "name": "stdout"
        }
      ]
    },
    {
      "cell_type": "code",
      "metadata": {
        "colab": {
          "base_uri": "https://localhost:8080/"
        },
        "id": "BRQWJ16WVUGR",
        "outputId": "f1fee1ed-900a-41a7-8417-640dea1a9436"
      },
      "source": [
        "#Parte 2\n",
        "from random import randint\n",
        "vidaMonstro = randint(10, 50)\n",
        "vlrAtaque = 0\n",
        "while vlrAtaque < 5 or vlrAtaque > 10:\n",
        "  vlrAtaque = int(input(\"Informe o valor de ataque(entre 5 e 10): \"))\n",
        "qtdTurnos = round(vidaMonstro/vlrAtaque + 0.5)\n",
        "print(f'Vida do monstro: {vidaMonstro}')\n",
        "print(f'Valor de ataque: {vlrAtaque}')\n",
        "print(f'O jogador irá precisar de {qtdTurnos} turnos para derrotar o monstro.')\n",
        "\n",
        "\n"
      ],
      "execution_count": null,
      "outputs": [
        {
          "output_type": "stream",
          "text": [
            "Informe o valor de ataque(entre 5 e 10): 6\n",
            "Vida do monstro: 37\n",
            "Valor de ataque: 6\n",
            "O jogador irá precisar de 7 turnos para derrotar o monstro.\n"
          ],
          "name": "stdout"
        }
      ]
    },
    {
      "cell_type": "markdown",
      "metadata": {
        "id": "T2otAsk8EKRK"
      },
      "source": [
        "#Exercicios de Fixação"
      ]
    },
    {
      "cell_type": "markdown",
      "metadata": {
        "id": "yzIriFSQERtY"
      },
      "source": [
        "Faça um Programa que calcule a área de um quadrado, em seguida mostre o dobro desta área para o usuário."
      ]
    },
    {
      "cell_type": "code",
      "metadata": {
        "colab": {
          "base_uri": "https://localhost:8080/"
        },
        "id": "uoeB-A-HESWr",
        "outputId": "9790d56c-f0f8-400d-f34c-299f56178e79"
      },
      "source": [
        "largura = int(input(\"Informe o valor da altura do quadrado.\"))\n",
        "area = largura**2\n",
        "print(f'A valor da área é: {area}m²\\n O dobro da área é: {area*2}m²')"
      ],
      "execution_count": null,
      "outputs": [
        {
          "output_type": "stream",
          "text": [
            "Informe o valor da altura do quadrado.100\n",
            "A valor da área é: 10000m²\n",
            " O dobro da área é: 20000m²\n"
          ],
          "name": "stdout"
        }
      ]
    },
    {
      "cell_type": "markdown",
      "metadata": {
        "id": "Z9q6GZ1RHjp1"
      },
      "source": [
        "Faça um Programa que pergunte quanto você ganha por hora e o número de horas trabalhadas no mês. Calcule e mostre o total do seu salário no referido mês."
      ]
    },
    {
      "cell_type": "code",
      "metadata": {
        "colab": {
          "base_uri": "https://localhost:8080/"
        },
        "id": "OG-Q_sMdHk-Q",
        "outputId": "ae3d6c71-e1b8-464e-a7d7-3dada91fadc4"
      },
      "source": [
        "vlrHora = float(input(\"Informe o valor ganho por hora de trabalho: \").replace(',','.'))\n",
        "qtdHora = float(input(\"Informe a quantidade de horas trabalhadas no mês: \").replace(',','.'))\n",
        "vlrTotal = vlrHora*qtdHora\n",
        "print(f'O seu salário no mês referido é: R${vlrTotal:.2f}')"
      ],
      "execution_count": null,
      "outputs": [
        {
          "output_type": "stream",
          "text": [
            "Informe o valor ganho por hora de trabalho: 100\n",
            "Informe a quantidade de horas trabalhadas no mês: 176\n",
            "O seu salário no mês referido é: R$17600.00\n"
          ],
          "name": "stdout"
        }
      ]
    },
    {
      "cell_type": "markdown",
      "metadata": {
        "id": "-973DvtEKNKq"
      },
      "source": [
        "Faça um Programa que peça a temperatura em graus Fahrenheit, transforme e mostre a temperatura em graus Celsius.\n",
        "C = 5 * ((F-32) / 9)."
      ]
    },
    {
      "cell_type": "code",
      "metadata": {
        "colab": {
          "base_uri": "https://localhost:8080/"
        },
        "id": "aFklg_UgKNqq",
        "outputId": "0d0b9f9e-8ccf-4298-ff5e-4a3d8fc78fdb"
      },
      "source": [
        "fahrenheit = float(input(\"Informe a temperatura em Fahrenheit: \").replace(',','.'))\n",
        "tempCelsius = 5*((fahrenheit-32)/9)\n",
        "print(f'A temperatura em Celsius é: {tempCelsius:.2f}Cº')"
      ],
      "execution_count": null,
      "outputs": [
        {
          "output_type": "stream",
          "text": [
            "Informe a temperatura em Fahrenheit: 83,8\n",
            "A temperatura em Celsius é: 28.78Cº\n"
          ],
          "name": "stdout"
        }
      ]
    },
    {
      "cell_type": "markdown",
      "metadata": {
        "id": "oV3b9DOQMISW"
      },
      "source": [
        "Faça um Programa que peça a temperatura em graus Celsius, transforme e mostre em graus Fahrenheit."
      ]
    },
    {
      "cell_type": "code",
      "metadata": {
        "colab": {
          "base_uri": "https://localhost:8080/"
        },
        "id": "DFpcI8bNMIsh",
        "outputId": "44f7fc0b-c4cc-4d0a-aab4-88c0a7a0293d"
      },
      "source": [
        "celsius = float(input(\"Informe a temperatura em Celsius: \").replace(',','.'))\n",
        "tempFahren = (celsius*1.8)+32\n",
        "print(f'A temperatura em Fahrenheit é: {tempFahren:.2f}Cº')"
      ],
      "execution_count": null,
      "outputs": [
        {
          "output_type": "stream",
          "text": [
            "Informe a temperatura em Celsius: 28,78\n",
            "A temperatura em Fahrenheit é: 83.80Cº\n"
          ],
          "name": "stdout"
        }
      ]
    },
    {
      "cell_type": "markdown",
      "metadata": {
        "id": "0esciBpQOrg2"
      },
      "source": [
        "Faça um Programa que peça 2 números inteiros e um número real.\n",
        " Calcule e mostre:\n",
        "o produto do dobro do primeiro com metade do segundo .\n",
        "a soma do triplo do primeiro com o terceiro.\n",
        "o terceiro elevado ao cubo."
      ]
    },
    {
      "cell_type": "code",
      "metadata": {
        "colab": {
          "base_uri": "https://localhost:8080/"
        },
        "id": "tYWTIRdbOsFj",
        "outputId": "3babfad7-8bad-40ec-c62d-b277cd6c4351"
      },
      "source": [
        "n1 = int(input(\"Digite um número inteiro: \"))\n",
        "n2 = int(input(\"Digite mais um número inteiro: \"))\n",
        "n3 = float(input(\"Digite um número real: \").replace(',','.'))\n",
        "c1 = ((n1*2)*(n2/2))\n",
        "c2 = ((n1*3)+n3)\n",
        "c3 = n3**3\n",
        "print(f'Resultado do primeiro cálculo:{c1}\\nResultado do segundo cálculo:{c2}\\nResultado do terceiro cálculo:{c3}')\n"
      ],
      "execution_count": null,
      "outputs": [
        {
          "output_type": "stream",
          "text": [
            "Digite um número inteiro: 10\n",
            "Digite mais um número inteiro: 15\n",
            "Digite um número real: 10.5\n",
            "Resultado do primeiro cálculo:150.0\n",
            "Resultado do segundo cálculo:40.5\n",
            "Resultado do terceiro cálculo:1157.625\n"
          ],
          "name": "stdout"
        }
      ]
    },
    {
      "cell_type": "markdown",
      "metadata": {
        "id": "AjgqVqLTTDOl"
      },
      "source": [
        "Tendo como dados de entrada a altura de uma pessoa, construa um algoritmo que calcule seu peso ideal, usando a seguinte fórmula: (72.7*altura) - 58"
      ]
    },
    {
      "cell_type": "code",
      "metadata": {
        "colab": {
          "base_uri": "https://localhost:8080/"
        },
        "id": "7ePXqyZuTDsZ",
        "outputId": "73dbce85-f2f7-416f-e7c7-423b015d963e"
      },
      "source": [
        "altura = float(input(\"Informe sua altura: \").replace(',','.'))\n",
        "pesoIdeal = (72.7*altura) - 58\n",
        "print(f'O seu peso ideal é: {pesoIdeal:.2f}Kg')"
      ],
      "execution_count": null,
      "outputs": [
        {
          "output_type": "stream",
          "text": [
            "Informe sua altura: 1.84\n",
            "O seu peso ideal é: 75.77Kg\n"
          ],
          "name": "stdout"
        }
      ]
    },
    {
      "cell_type": "markdown",
      "metadata": {
        "id": "gSE53uRWTiC-"
      },
      "source": [
        "Tendo como dado de entrada a altura (h) de uma pessoa, construa um algoritmo que calcule seu peso ideal, utilizando as seguintes fórmulas:\n",
        "Para homens: (72.7*h) - 58\n",
        "Para mulheres: (62.1*h) - 44.7"
      ]
    },
    {
      "cell_type": "code",
      "metadata": {
        "colab": {
          "base_uri": "https://localhost:8080/"
        },
        "id": "QNl04EOmTirD",
        "outputId": "eb206fd8-98e9-46f9-f18d-9438984c1290"
      },
      "source": [
        "altura = float(input(\"Informe sua altura: \"))\n",
        "pesoH = (72.7*altura) - 58\n",
        "pesoM = (62.1*altura) - 44.7\n",
        "print(f'Peso ideal caso homem: {pesoH:.2f}Kg\\nPeso ideal caso mulher: {pesoM:.2f}Kg')"
      ],
      "execution_count": null,
      "outputs": [
        {
          "output_type": "stream",
          "text": [
            "Informe sua altura: 1.84\n",
            "Peso ideal caso homem: 75.77Kg\n",
            "Peso ideal caso mulher:69.56Kg\n"
          ],
          "name": "stdout"
        }
      ]
    },
    {
      "cell_type": "markdown",
      "metadata": {
        "id": "j_bbg63tVL0W"
      },
      "source": [
        "João Papo-de-Pescador, homem de bem, comprou um microcomputador para controlar o rendimento diário de seu trabalho. Toda vez que ele traz um peso de peixes maior que o estabelecido pelo regulamento de pesca do estado de São Paulo (50 quilos) deve pagar uma multa de R$ 4,00 por quilo excedente. João precisa que você faça um programa que leia a variável peso (peso de peixes) e calcule o excesso. Gravar na variável excesso a quantidade de quilos além do limite e na variável multa o valor da multa que João deverá pagar. Imprima os dados do programa com as mensagens adequadas."
      ]
    },
    {
      "cell_type": "code",
      "metadata": {
        "colab": {
          "base_uri": "https://localhost:8080/"
        },
        "id": "7GV2oAU2VNLo",
        "outputId": "99629a4d-c3bb-4aa6-9cd5-5fe71f8c3cd8"
      },
      "source": [
        "limite = 50.00\n",
        "multa = 4.00\n",
        "peso = float(input(\"Informe o peso dos peixes: \").replace(',','.'))\n",
        "if peso > 50:\n",
        "  excesso = peso - limite\n",
        "  print(f'Peso da pesca: {peso:.2f}\\nPeso limite: {limite:.2f}\\nMulta por Kg excedente: R${multa}\\nKg excedente: {excesso:.2f}\\nValor da multa: R${excesso*multa:.2f}')\n",
        "else:\n",
        "  print(f'Peso da pesca: {peso:.2f}\\nPeso limite: {limite:.2f}\\nNão há multa, o peso não foi excedido.')\n",
        " \n",
        "\n"
      ],
      "execution_count": null,
      "outputs": [
        {
          "output_type": "stream",
          "text": [
            "Informe o peso dos peixes: 50,45\n",
            "Peso da pesca: 50.45\n",
            "Peso limite: 50.00\n",
            "Multa por Kg excedente: R$4.0\n",
            "Kg excedente: 0.45\n",
            "Valor da multa: R$1.80\n"
          ],
          "name": "stdout"
        }
      ]
    }
  ]
}