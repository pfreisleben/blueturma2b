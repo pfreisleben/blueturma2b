{
  "nbformat": 4,
  "nbformat_minor": 0,
  "metadata": {
    "colab": {
      "name": "exercicios_python_07_05_2021.ipynb",
      "provenance": [],
      "collapsed_sections": [],
      "authorship_tag": "ABX9TyO6i1/l8d05i9WHFTECOhre",
      "include_colab_link": true
    },
    "kernelspec": {
      "name": "python3",
      "display_name": "Python 3"
    },
    "language_info": {
      "name": "python"
    }
  },
  "cells": [
    {
      "cell_type": "code",
      "metadata": {
        "id": "Np9r21MFef1O",
        "colab": {
          "base_uri": "https://localhost:8080/"
        },
        "outputId": "c854fc1e-6000-41d1-d6f7-54377d6ed05b"
      },
      "source": [
        "n1 = int(input(\"Informe o primeiro número: \"))\n",
        "n2 = int(input(\"Informe o segundo número: \"))\n",
        "n3 = int(input(\"Informe o terceiro número: \"))\n",
        "maior = n1\n",
        "menor = n1\n",
        "# Acha maior\n",
        "if n2 > maior:\n",
        "    maior = n2\n",
        "if n3 > maior:\n",
        "    maior = n3\n",
        "\n",
        "# Acha menor\n",
        "if n2 < menor:\n",
        "    menor = n2\n",
        "    print(menor)\n",
        "if n3 < menor:\n",
        "    menor = n3\n",
        "    print(menor)\n",
        "\n",
        "print(f'Maior: {maior}')\n",
        "print(f'Menor: {menor}')\n"
      ],
      "execution_count": null,
      "outputs": [
        {
          "output_type": "stream",
          "text": [
            "Informe o primeiro número: 9\n",
            "Informe o segundo número: 8\n",
            "Informe o terceiro número: 10\n",
            "8\n",
            "Maior: 10\n",
            "Menor: 8\n"
          ],
          "name": "stdout"
        }
      ]
    },
    {
      "cell_type": "markdown",
      "metadata": {
        "id": "siIgfqmAvgIN"
      },
      "source": [
        "**Exercício 2 - Faça um programa que peça dois números e imprima o maior deles.**"
      ]
    },
    {
      "cell_type": "code",
      "metadata": {
        "colab": {
          "base_uri": "https://localhost:8080/"
        },
        "id": "LOeKrQyCvxVU",
        "outputId": "abf8aad8-cd63-4a67-9859-e2ca28c68cce"
      },
      "source": [
        "n1 = float(input(\"Informe o primeiro número: \"))\n",
        "n2 = float(input(\"Informe o segundo número: \"))\n",
        "if n1 > n2:\n",
        "  print(f'Maior número: {n1}')\n",
        "else:\n",
        "  print(f'Maior número: {n2}')"
      ],
      "execution_count": null,
      "outputs": [
        {
          "output_type": "stream",
          "text": [
            "Informe o primeiro número: 9\n",
            "Informe o segundo número: 10\n",
            "Maior número: 10.0\n"
          ],
          "name": "stdout"
        }
      ]
    },
    {
      "cell_type": "markdown",
      "metadata": {
        "id": "kHOXbn7qwO60"
      },
      "source": [
        "**Exercício 3 - Faça um script que peça um valor e mostre na tela se o valor é positivo ou negativo.**"
      ]
    },
    {
      "cell_type": "code",
      "metadata": {
        "colab": {
          "base_uri": "https://localhost:8080/"
        },
        "id": "dKkyWX5xwP1W",
        "outputId": "4be58250-a120-4115-b8b2-105041a803b4"
      },
      "source": [
        "n1 = float(input(\"Informe um número: \"))\n",
        "if n1 > 0:\n",
        "  print(f'O valor é positivo!')\n",
        "else:\n",
        "  print(\"O valor é negativo.\")"
      ],
      "execution_count": null,
      "outputs": [
        {
          "output_type": "stream",
          "text": [
            "Informe um número: -2\n",
            "O valor é negativo.\n"
          ],
          "name": "stdout"
        }
      ]
    },
    {
      "cell_type": "markdown",
      "metadata": {
        "id": "pJJKo6h6wlao"
      },
      "source": [
        "**Exercício 4 - Crie um programa que verifique se uma letra digitada é \"F\" ou \"M\". Conforme a letra escrever: F - Feminino, M - Masculino, Sexo Inválido.**"
      ]
    },
    {
      "cell_type": "code",
      "metadata": {
        "colab": {
          "base_uri": "https://localhost:8080/"
        },
        "id": "0J3n1M1jwrjI",
        "outputId": "bbfdbe34-61a8-4584-955d-687ef015df16"
      },
      "source": [
        "letra = input(\"Digite seu sexo(F ou M): \")\n",
        "letra = letra.lower()\n",
        "if letra == \"m\":\n",
        "  print(f'M - Masculino')\n",
        "elif letra == \"f\":\n",
        "  print(\"F - Feminino\")\n",
        "else:\n",
        "  print(\"Sexo Inválido\")"
      ],
      "execution_count": null,
      "outputs": [
        {
          "output_type": "stream",
          "text": [
            "Digite seu sexo(F ou M): M\n",
            "M - Masculino\n"
          ],
          "name": "stdout"
        }
      ]
    },
    {
      "cell_type": "markdown",
      "metadata": {
        "id": "Z9bdq1F5xSv1"
      },
      "source": [
        "Exercício 5 - Crie um programa em Python que peça a nota do aluno, que deve ser um float entre 0.00 e 10.0\n",
        "•\tSe a nota for menor que 6.0, deve exibir a nota F.\n",
        "•\tSe a nota for de 6.0 até 7.0, deve exibir a nota D.\n",
        "•\tSe a nota for entre 7.0 e 8.0, deve exibir a nota C.\n",
        "•\tSe a nota for entre 8.0 e 9.0, deve exibir a nota B.\n",
        "•\tPor fim, se for entre 9.0 e 10.0, deve exibir um belo de um A. \n"
      ]
    },
    {
      "cell_type": "code",
      "metadata": {
        "colab": {
          "base_uri": "https://localhost:8080/"
        },
        "id": "44T9-Tfrxc98",
        "outputId": "616990bb-049e-4d4e-d611-88c9252a8fb7"
      },
      "source": [
        "nota = float(input(\"Informe a nota do aluno: \"))\n",
        "if nota < 6:\n",
        "  print(\"Você recebeu a nota: F\")\n",
        "elif nota <= 7:\n",
        "  print(\"Você recebeu a nota: D\")\n",
        "elif nota <= 8:\n",
        "  print(\"Você recebeu a nota: C\")\n",
        "elif nota <= 9:\n",
        "  print(\"VocÊ recebeu a nota: B\")\n",
        "else:\n",
        "  print(\"Parabéns, você recebeu um A!\")\n"
      ],
      "execution_count": null,
      "outputs": [
        {
          "output_type": "stream",
          "text": [
            "Informe a nota do aluno: 8.1\n",
            "VocÊ recebeu a nota: B\n"
          ],
          "name": "stdout"
        }
      ]
    },
    {
      "cell_type": "markdown",
      "metadata": {
        "id": "Tuz_4Zna1G0K"
      },
      "source": [
        "**Exercício 6 - Faça um Programa que verifique se uma letra digitada é vogal ou consoante.**"
      ]
    },
    {
      "cell_type": "code",
      "metadata": {
        "colab": {
          "base_uri": "https://localhost:8080/"
        },
        "id": "uzkxnwbx1H-u",
        "outputId": "62079cd1-0e41-4fd5-bad4-d6d06bdf8d1e"
      },
      "source": [
        "letra = input(\"Digite uma letra: \")\n",
        "letra = letra.lower()\n",
        "if letra == \"a\":\n",
        "  print(\"É vogal!\")\n",
        "elif letra == \"e\":\n",
        "  print(\"É vogal!\")\n",
        "elif letra == \"i\":\n",
        "  print(\"É vogal!\")\n",
        "elif letra == \"o\":\n",
        "  print(\"É vogal!\")\n",
        "elif letra == \"u\":\n",
        "  print(\"É legal\")\n",
        "else:\n",
        "  print(\"É consoante!\")"
      ],
      "execution_count": null,
      "outputs": [
        {
          "output_type": "stream",
          "text": [
            "Digite uma letra: t\n",
            "É consoante!\n"
          ],
          "name": "stdout"
        }
      ]
    },
    {
      "cell_type": "markdown",
      "metadata": {
        "id": "Ec4Y-yRb2nft"
      },
      "source": [
        "**PROJETO 1\n",
        "Resultado da primeira/segunda aula em Python:\n",
        "•\tEscreva um programa que receba uma string digitada pelo usuário;\n",
        "•\tCaso a string seja \"medieval\", exiba no console \"espada\";\n",
        "•\tCaso contrário, se a string for \"futurista\", exiba no console \"sabre de luz\";\n",
        "•\tCaso contrário, exiba no console \"Tente novamente\"**\n"
      ]
    },
    {
      "cell_type": "code",
      "metadata": {
        "colab": {
          "base_uri": "https://localhost:8080/"
        },
        "id": "lXUmW-u22rus",
        "outputId": "47b210f3-bc33-4943-b196-3b353739a433"
      },
      "source": [
        "palavra = input(\"Informe uma palavra: \")\n",
        "palavra = palavra.lower()\n",
        "if palavra == \"medieval\":\n",
        "  print(\"Espada\")\n",
        "elif palavra == \"futurista\":\n",
        "  print(\"Sabre de luz\")\n",
        "else:\n",
        "  print(\"Tente novamente\")"
      ],
      "execution_count": null,
      "outputs": [
        {
          "output_type": "stream",
          "text": [
            "Informe uma palavra: MEDIEVAL\n",
            "Espada\n"
          ],
          "name": "stdout"
        }
      ]
    },
    {
      "cell_type": "markdown",
      "metadata": {
        "id": "ANh2aR5Y3BEo"
      },
      "source": [
        "**Continuação do PROJETO 1\n",
        "•\tEscreva um programa que receba um ataque de espada ou sabre digitada pelo usuário;\n",
        "•\tCaso o ataque seja \"espada\", exiba no console \"VOCÊ AINDA NÃO MATOU O CHEFÃO\";\n",
        "•\tCaso contrário, se o ataque for \"sabre\", exiba no console \"VOCÊ DERROTOU O CHEFÃO COM O SABRE DE LUZ\";\n",
        "•\tCaso contrário, exiba no console \"ATAQUE NOVAMENTE\"**"
      ]
    },
    {
      "cell_type": "code",
      "metadata": {
        "colab": {
          "base_uri": "https://localhost:8080/"
        },
        "id": "Hkp9ud4p3JAf",
        "outputId": "61f4d5f2-e97a-4e0d-92ab-f4273e3b431e"
      },
      "source": [
        "ataque = input(\"Ataque digitando sabre ou espada: \")\n",
        "ataque = ataque.lower()\n",
        "if ataque == \"espada\":\n",
        " print(\"VOCÊ AINDA NÃO MATOU O CHEFÃO!\")\n",
        "elif ataque == \"sabre\":\n",
        "  print(\"VOCÊ DERROTOU O CHEFÃO COM O SABRE DE LUZ\")\n",
        "else:\n",
        "  print(\"ATAQUE NOVAMENTE!\")\n"
      ],
      "execution_count": null,
      "outputs": [
        {
          "output_type": "stream",
          "text": [
            "Ataque digitando sabre ou espada: SABRE\n",
            "VOCÊ DERROTOU O CHEFÃO COM O SABRE DE LUZ\n"
          ],
          "name": "stdout"
        }
      ]
    },
    {
      "cell_type": "markdown",
      "metadata": {
        "id": "erei-B0l3ka_"
      },
      "source": [
        "```\n",
        "DESAFIO - As empresas @.com resolveram dar um aumento de salário aos seus colaboradores e lhe contrataram para desenvolver o programa que calculará os reajustes.\n",
        "\n",
        "Faça um programa que recebe o salário de um colaborador e o reajuste segundo o seguinte critério, baseado no salário atual:\n",
        "•\tsalários até R$ 280,00 (incluindo) : aumento de 20%\n",
        "•\tsalários entre R$ 280,00 e R$ 700,00 : aumento de 15%\n",
        "•\tsalários entre R$ 700,00 e R$ 1500,00 : aumento de 10%\n",
        "•\tsalários de R$ 1500,00 em diante : aumento de 5%\n",
        "Após o aumento ser realizado, informe na tela:\n",
        "•\to salário antes do reajuste;\n",
        "•\to percentual de aumento aplicado;\n",
        "•\to valor do aumento;\n",
        "•\to novo salário, após o aumento.\"\n",
        "```\n",
        "\n",
        "\n"
      ]
    },
    {
      "cell_type": "code",
      "metadata": {
        "colab": {
          "base_uri": "https://localhost:8080/"
        },
        "id": "vZlIFb5j34ji",
        "outputId": "26e9377c-e555-468e-a95f-b968c59e711b"
      },
      "source": [
        "salario = float(input(\"Informe seu salário: \").replace(',','.'))\n",
        "ajuste = 0\n",
        "if salario <= 280:\n",
        "  ajuste = 20\n",
        "elif salario <= 700:\n",
        "  ajuste = 15\n",
        "elif salario <= 1500:\n",
        "  ajuste = 10\n",
        "else:\n",
        "  ajuste = 5\n",
        "indice = ajuste/100 + 1\n",
        "print(f'Salário antes do reajuste: R${salario:.2f}\\nPercentual do aumento aplicado: {ajuste}%\\nValor do aumento: R${salario*(ajuste/100):.2f}\\nNovo salário: R${salario*indice:.2f}')\n"
      ],
      "execution_count": null,
      "outputs": [
        {
          "output_type": "stream",
          "text": [
            "Informe seu salário: 1000\n",
            "Salário antes do reajuste: R$1000.00\n",
            "Percentual do aumento aplicado: 10%\n",
            "Valor do aumento: R$100.00\n",
            "Novo salário: R$1100.00\n"
          ],
          "name": "stdout"
        }
      ]
    },
    {
      "cell_type": "markdown",
      "metadata": {
        "id": "_1uy-bxY6swj"
      },
      "source": [
        "Faça um Programa para um caixa eletrônico. O programa deverá perguntar ao usuário a valor do saque e depois informar quantas notas de cada valor serão fornecidas. As notas disponíveis serão as de 1, 5, 10, 50 e 100 reais. O valor mínimo é de 10 reais e o máximo de 600 reais. O programa não deve se preocupar com a quantidade de notas existentes na máquina.\n",
        "•\tExemplo 1: Para sacar a quantia de 256 reais, o programa fornece duas notas de 100, uma nota de 50, uma nota de 5 e uma nota de 1;\n",
        "•\tExemplo 2: Para sacar a quantia de 399 reais, o programa fornece três notas de 100, uma nota de 50, quatro notas de 10, uma nota de 5 e quatro notas de 1.\n"
      ]
    },
    {
      "cell_type": "code",
      "metadata": {
        "colab": {
          "base_uri": "https://localhost:8080/"
        },
        "id": "iK1v4ChJ6149",
        "outputId": "4bd8a133-bb58-4531-8d30-c6485c101e06"
      },
      "source": [
        "import math\n",
        "saque = int(input(\"Informe o valor do saque: \"))\n",
        "if saque >= 10 and saque <= 600:\n",
        " nota100 = math.floor(saque/100)\n",
        " sobra = saque-(100 * nota100)\n",
        " nota50 = math.floor(sobra/50)\n",
        " sobra = sobra - (50 * nota50)\n",
        " nota10 = math.floor(sobra/10)\n",
        " sobra = sobra - (10 * nota10)\n",
        " nota5 = math.floor(sobra/5)\n",
        " sobra = sobra - (5 * nota5)\n",
        " nota1 = math.floor(sobra/1)\n",
        "\n",
        " print(f'Para sacar a quantia de {saque:.2f} reais, o programa fornece: ')\n",
        " if nota100 > 0:\n",
        "    print(f'{nota100} nota(s) de 100 reais.')\n",
        " if nota50 > 0:\n",
        "   print(f'{nota50} nota(s) de 50 reais.')\n",
        " if nota10 > 0:\n",
        "   print(f'{nota10} nota(s) de 10 reais.')\n",
        " if nota5 > 0:\n",
        "   print(f'{nota5} nota(s) de 5 reais.')\n",
        " if nota1 > 0:\n",
        "   print(f'{nota1} nota(s) de 1 real.')\n",
        "else:\n",
        "   print(\"Valor do saque inválido.\")"
      ],
      "execution_count": 6,
      "outputs": [
        {
          "output_type": "stream",
          "text": [
            "Informe o valor do saque: 700\n",
            "Valor do saque inválido.\n"
          ],
          "name": "stdout"
        }
      ]
    }
  ]
}